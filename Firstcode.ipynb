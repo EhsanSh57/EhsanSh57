"Import pandas as pd"
"lst=[1,2,3,4]"
"df=pd.Series(lst)"
