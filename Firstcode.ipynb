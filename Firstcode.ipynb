{
  "Import pandas as pd"
  "lst=[1,2,3,4,5]"
  "ss=pd.Series(lst)"
}
